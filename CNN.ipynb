{
  "cells": [
    {
      "cell_type": "code",
      "execution_count": 1,
      "metadata": {
        "id": "V7bYoJ5KsC1L",
        "colab": {
          "base_uri": "https://localhost:8080/"
        },
        "outputId": "b827a42a-9cfb-4e61-be08-69151a36e79b"
      },
      "outputs": [
        {
          "output_type": "stream",
          "name": "stdout",
          "text": [
            "Looking in indexes: https://pypi.org/simple, https://us-python.pkg.dev/colab-wheels/public/simple/\n",
            "Requirement already satisfied: Pillow in /usr/local/lib/python3.8/dist-packages (7.1.2)\n"
          ]
        }
      ],
      "source": [
        "import numpy as np\n",
        "import tensorflow as tf\n",
        "import tensorflow.keras.layers as KL\n",
        "import tensorflow.keras.models as KM\n",
        "from matplotlib import pyplot as plt\n",
        "!pip install Pillow\n",
        "from PIL import Image"
      ]
    },
    {
      "cell_type": "markdown",
      "source": [
        "#Import Cifar10 dataset"
      ],
      "metadata": {
        "id": "8cCgXdVzFHS2"
      }
    },
    {
      "cell_type": "code",
      "execution_count": 2,
      "metadata": {
        "id": "YWnFnNGcsQCB"
      },
      "outputs": [],
      "source": [
        "cifar = tf.keras.datasets.cifar10 "
      ]
    },
    {
      "cell_type": "markdown",
      "source": [
        "#Loading dataset"
      ],
      "metadata": {
        "id": "Hgg3SWGcFKyw"
      }
    },
    {
      "cell_type": "code",
      "execution_count": 3,
      "metadata": {
        "id": "bwB6zbiusUSu",
        "colab": {
          "base_uri": "https://localhost:8080/"
        },
        "outputId": "19ffb9d6-9701-404a-9aeb-1aafef99d953"
      },
      "outputs": [
        {
          "output_type": "stream",
          "name": "stdout",
          "text": [
            "Downloading data from https://www.cs.toronto.edu/~kriz/cifar-10-python.tar.gz\n",
            "170498071/170498071 [==============================] - 3s 0us/step\n"
          ]
        }
      ],
      "source": [
        "(x_train,y_train),(x_test,y_test) = cifar.load_data()"
      ]
    },
    {
      "cell_type": "markdown",
      "source": [
        "#Check the dimensions of the image dataset, and the their labels"
      ],
      "metadata": {
        "id": "Mbg2qrjBFTNn"
      }
    },
    {
      "cell_type": "code",
      "execution_count": 4,
      "metadata": {
        "colab": {
          "base_uri": "https://localhost:8080/"
        },
        "id": "IP0gcUV6sfOM",
        "outputId": "909ef7c2-7234-42b6-ac6d-539496133205"
      },
      "outputs": [
        {
          "output_type": "execute_result",
          "data": {
            "text/plain": [
              "((50000, 32, 32, 3), (50000, 1), (10000, 32, 32, 3), (10000, 1))"
            ]
          },
          "metadata": {},
          "execution_count": 4
        }
      ],
      "source": [
        "x_train.shape, y_train.shape,x_test.shape,y_test.shape"
      ]
    },
    {
      "cell_type": "markdown",
      "source": [
        "#Visualize an image from the training set"
      ],
      "metadata": {
        "id": "05dy4TsvFO_X"
      }
    },
    {
      "cell_type": "code",
      "execution_count": 5,
      "metadata": {
        "colab": {
          "base_uri": "https://localhost:8080/",
          "height": 283
        },
        "id": "WtrDi2AtvQpW",
        "outputId": "7bbb31d6-b742-4212-e569-6242a79969f5"
      },
      "outputs": [
        {
          "output_type": "execute_result",
          "data": {
            "text/plain": [
              "<matplotlib.image.AxesImage at 0x7f6cfa036a90>"
            ]
          },
          "metadata": {},
          "execution_count": 5
        },
        {
          "output_type": "display_data",
          "data": {
            "text/plain": [
              "<Figure size 432x288 with 1 Axes>"
            ],
            "image/png": "[encoded data removed]"
          },
          "metadata": {
            "needs_background": "light"
          }
        }
      ],
      "source": [
        "plt.imshow(x_train[0])"
      ]
    },
    {
      "cell_type": "markdown",
      "source": [
        "#Normalize the both training and test sets"
      ],
      "metadata": {
        "id": "mNd0spFQFeLb"
      }
    },
    {
      "cell_type": "code",
      "execution_count": null,
      "metadata": {
        "id": "4gHtseV3skyN"
      },
      "outputs": [],
      "source": [
        "x_train, x_test = x_train/255.0, x_test/255.0"
      ]
    },
    {
      "cell_type": "markdown",
      "source": [
        "#Check the number of classes of the dataset"
      ],
      "metadata": {
        "id": "ZO6uA5xyFoUP"
      }
    },
    {
      "cell_type": "code",
      "execution_count": null,
      "metadata": {
        "colab": {
          "base_uri": "https://localhost:8080/"
        },
        "id": "IWLQ3tnNu_DO",
        "outputId": "0e25fb94-6c78-4d13-a58f-63a749ef2fb6"
      },
      "outputs": [
        {
          "output_type": "execute_result",
          "data": {
            "text/plain": [
              "(9, (50000, 32, 32, 3), (10000, 32, 32, 3))"
            ]
          },
          "metadata": {},
          "execution_count": 76
        }
      ],
      "source": [
        "np.max(np.unique(y_train))"
      ]
    },
    {
      "cell_type": "markdown",
      "source": [
        "#VggNet-16 architecture"
      ],
      "metadata": {
        "id": "o4f96fGS3bHh"
      }
    },
    {
      "cell_type": "code",
      "execution_count": null,
      "metadata": {
        "id": "u4E5FdRQvOI7"
      },
      "outputs": [],
      "source": [
        "inputs = KL.Input(shape=(32,32,3))\n",
        "\n",
        "m = KL.Conv2D(64,(3,3),padding='same',activation=tf.nn.relu)(inputs)\n",
        "\n",
        "c = KL.Conv2D(64,(3,3),padding='same',activation=tf.nn.relu)(m)\n",
        "\n",
        "m = KL.MaxPool2D((2,2),strides=(2,2))(c)\n",
        "\n",
        "c = KL.Conv2D(128,(3,3),padding='same',activation=tf.nn.relu)(m)\n",
        "\n",
        "c = KL.Conv2D(128,(3,3),padding='same',activation=tf.nn.relu)(c)\n",
        "\n",
        "m = KL.MaxPool2D((2,2),strides=(2,2))(c)\n",
        "\n",
        "c = KL.Conv2D(256,(3,3),padding='same',activation=tf.nn.relu)(m)\n",
        "\n",
        "c = KL.Conv2D(256,(3,3),padding='same',activation=tf.nn.relu)(c)\n",
        "\n",
        "c = KL.Conv2D(256,(3,3),padding='same',activation=tf.nn.relu)(c)\n",
        "\n",
        "m = KL.MaxPool2D((2,2),strides=(2,2))(c)\n",
        "\n",
        "c = KL.Conv2D(512,(3,3),padding='same',activation=tf.nn.relu)(m)\n",
        "\n",
        "c = KL.Conv2D(512,(3,3),padding='same',activation=tf.nn.relu)(c)\n",
        "\n",
        "c = KL.Conv2D(512,(3,3),padding='same',activation=tf.nn.relu)(c)\n",
        "\n",
        "m = KL.MaxPool2D((2,2),strides=(2,2))(c)\n",
        "\n",
        "c = KL.Conv2D(512,(3,3),padding='same',activation=tf.nn.relu)(m)\n",
        "\n",
        "c = KL.Conv2D(512,(3,3),padding='same',activation=tf.nn.relu)(c)\n",
        "\n",
        "c = KL.Conv2D(512,(3,3),padding='same',activation=tf.nn.relu)(c)\n",
        "\n",
        "m = KL.MaxPool2D((2,2),strides=(2,2))(c)\n",
        "\n",
        "\n",
        "f = KL.Flatten()(m)\n",
        "\n",
        "c = KL.Dense(4096,activation=tf.nn.relu)(f)\n",
        "\n",
        "c = KL.Dense(4096,activation=tf.nn.relu)(c)\n",
        "\n",
        "ouputs = KL.Dense(10,activation=tf.nn.softmax)(c)\n",
        "\n",
        "model = KM.Model(inputs,ouputs)\n",
        "\n"
      ]
    },
    {
      "cell_type": "code",
      "source": [
        "model.summary()"
      ],
      "metadata": {
        "colab": {
          "base_uri": "https://localhost:8080/"
        },
        "id": "-BtXMDjIgScz",
        "outputId": "96f84239-1310-4741-cae4-1113f8a1e574"
      },
      "execution_count": null,
      "outputs": [
        {
          "output_type": "stream",
          "name": "stdout",
          "text": [
            "Model: \"model_6\"\n",
            "_________________________________________________________________\n",
            " Layer (type)                Output Shape              Param #   \n",
            "=================================================================\n",
            " input_10 (InputLayer)       [(None, 32, 32, 3)]       0         \n",
            "                                                                 \n",
            " conv2d_79 (Conv2D)          (None, 32, 32, 64)        1792      \n",
            "                                                                 \n",
            " conv2d_80 (Conv2D)          (None, 32, 32, 64)        36928     \n",
            "                                                                 \n",
            " max_pooling2d_35 (MaxPoolin  (None, 16, 16, 64)       0         \n",
            " g2D)                                                            \n",
            "                                                                 \n",
            " conv2d_81 (Conv2D)          (None, 16, 16, 128)       73856     \n",
            "                                                                 \n",
            " conv2d_82 (Conv2D)          (None, 16, 16, 128)       147584    \n",
            "                                                                 \n",
            " max_pooling2d_36 (MaxPoolin  (None, 8, 8, 128)        0         \n",
            " g2D)                                                            \n",
            "                                                                 \n",
            " conv2d_83 (Conv2D)          (None, 8, 8, 256)         295168    \n",
            "                                                                 \n",
            " conv2d_84 (Conv2D)          (None, 8, 8, 256)         590080    \n",
            "                                                                 \n",
            " conv2d_85 (Conv2D)          (None, 8, 8, 256)         590080    \n",
            "                                                                 \n",
            " max_pooling2d_37 (MaxPoolin  (None, 4, 4, 256)        0         \n",
            " g2D)                                                            \n",
            "                                                                 \n",
            " conv2d_86 (Conv2D)          (None, 4, 4, 512)         1180160   \n",
            "                                                                 \n",
            " conv2d_87 (Conv2D)          (None, 4, 4, 512)         2359808   \n",
            "                                                                 \n",
            " conv2d_88 (Conv2D)          (None, 4, 4, 512)         2359808   \n",
            "                                                                 \n",
            " max_pooling2d_38 (MaxPoolin  (None, 2, 2, 512)        0         \n",
            " g2D)                                                            \n",
            "                                                                 \n",
            " conv2d_89 (Conv2D)          (None, 2, 2, 512)         2359808   \n",
            "                                                                 \n",
            " conv2d_90 (Conv2D)          (None, 2, 2, 512)         2359808   \n",
            "                                                                 \n",
            " conv2d_91 (Conv2D)          (None, 2, 2, 512)         2359808   \n",
            "                                                                 \n",
            " max_pooling2d_39 (MaxPoolin  (None, 1, 1, 512)        0         \n",
            " g2D)                                                            \n",
            "                                                                 \n",
            " flatten_6 (Flatten)         (None, 512)               0         \n",
            "                                                                 \n",
            " dense_19 (Dense)            (None, 4096)              2101248   \n",
            "                                                                 \n",
            " dense_20 (Dense)            (None, 4096)              16781312  \n",
            "                                                                 \n",
            " dense_21 (Dense)            (None, 10)                40970     \n",
            "                                                                 \n",
            "=================================================================\n",
            "Total params: 33,638,218\n",
            "Trainable params: 33,638,218\n",
            "Non-trainable params: 0\n",
            "_________________________________________________________________\n"
          ]
        }
      ]
    },
    {
      "cell_type": "code",
      "source": [
        "model.compile(optimizer=tf.keras.optimizers.Adam(\n",
        "    learning_rate=0.0001\n",
        "),loss = \"sparse_categorical_crossentropy\",metrics=[\"accuracy\"])"
      ],
      "metadata": {
        "id": "T4HxS-Nmgi6Z"
      },
      "execution_count": null,
      "outputs": []
    },
    {
      "cell_type": "code",
      "source": [
        "model.fit(x_train,y_train,epochs=100,batch_size=100)"
      ],
      "metadata": {
        "colab": {
          "base_uri": "https://localhost:8080/"
        },
        "id": "S-BU7Z58gqNS",
        "outputId": "16e30c19-f960-4b30-f332-922af3b3b631"
      },
      "execution_count": null,
      "outputs": [
        {
          "output_type": "stream",
          "name": "stdout",
          "text": [
            "Epoch 1/100\n",
            "500/500 [==============================] - 28s 55ms/step - loss: 1.9828 - accuracy: 0.2081\n",
            "Epoch 2/100\n",
            "500/500 [==============================] - 28s 56ms/step - loss: 1.4859 - accuracy: 0.4281\n",
            "Epoch 3/100\n",
            "500/500 [==============================] - 28s 56ms/step - loss: 1.2094 - accuracy: 0.5562\n",
            "Epoch 4/100\n",
            "500/500 [==============================] - 28s 57ms/step - loss: 0.9847 - accuracy: 0.6475\n",
            "Epoch 5/100\n",
            "500/500 [==============================] - 28s 57ms/step - loss: 0.8102 - accuracy: 0.7144\n",
            "Epoch 6/100\n",
            "500/500 [==============================] - 29s 57ms/step - loss: 0.6755 - accuracy: 0.7638\n",
            "Epoch 7/100\n",
            "500/500 [==============================] - 29s 57ms/step - loss: 0.5654 - accuracy: 0.8027\n",
            "Epoch 8/100\n",
            "500/500 [==============================] - 29s 57ms/step - loss: 0.4556 - accuracy: 0.8418\n",
            "Epoch 9/100\n",
            "500/500 [==============================] - 29s 57ms/step - loss: 0.3644 - accuracy: 0.8741\n",
            "Epoch 10/100\n",
            "500/500 [==============================] - 29s 57ms/step - loss: 0.2865 - accuracy: 0.9003\n",
            "Epoch 11/100\n",
            "500/500 [==============================] - 29s 58ms/step - loss: 0.2238 - accuracy: 0.9239\n",
            "Epoch 12/100\n",
            "500/500 [==============================] - 29s 58ms/step - loss: 0.1823 - accuracy: 0.9389\n",
            "Epoch 13/100\n",
            "500/500 [==============================] - 29s 57ms/step - loss: 0.1503 - accuracy: 0.9485\n",
            "Epoch 14/100\n",
            "500/500 [==============================] - 29s 57ms/step - loss: 0.1214 - accuracy: 0.9585\n",
            "Epoch 15/100\n",
            "500/500 [==============================] - 29s 57ms/step - loss: 0.1124 - accuracy: 0.9626\n",
            "Epoch 16/100\n",
            "500/500 [==============================] - 29s 57ms/step - loss: 0.0948 - accuracy: 0.9676\n",
            "Epoch 17/100\n",
            "500/500 [==============================] - 29s 58ms/step - loss: 0.0861 - accuracy: 0.9720\n",
            "Epoch 18/100\n",
            "500/500 [==============================] - 29s 58ms/step - loss: 0.0778 - accuracy: 0.9741\n",
            "Epoch 19/100\n",
            "500/500 [==============================] - 29s 57ms/step - loss: 0.0700 - accuracy: 0.9766\n",
            "Epoch 20/100\n",
            "500/500 [==============================] - 29s 58ms/step - loss: 0.0717 - accuracy: 0.9755\n",
            "Epoch 21/100\n",
            "500/500 [==============================] - 29s 58ms/step - loss: 0.0657 - accuracy: 0.9776\n",
            "Epoch 22/100\n",
            "500/500 [==============================] - 29s 58ms/step - loss: 0.0673 - accuracy: 0.9779\n",
            "Epoch 23/100\n",
            "500/500 [==============================] - 29s 58ms/step - loss: 0.0538 - accuracy: 0.9824\n",
            "Epoch 24/100\n",
            "500/500 [==============================] - 29s 58ms/step - loss: 0.0520 - accuracy: 0.9828\n",
            "Epoch 25/100\n",
            "500/500 [==============================] - 29s 58ms/step - loss: 0.0522 - accuracy: 0.9829\n",
            "Epoch 26/100\n",
            "500/500 [==============================] - 29s 58ms/step - loss: 0.0498 - accuracy: 0.9839\n",
            "Epoch 27/100\n",
            "500/500 [==============================] - 29s 57ms/step - loss: 0.0541 - accuracy: 0.9830\n",
            "Epoch 28/100\n",
            "500/500 [==============================] - 29s 58ms/step - loss: 0.0433 - accuracy: 0.9863\n",
            "Epoch 29/100\n",
            "500/500 [==============================] - 29s 58ms/step - loss: 0.0466 - accuracy: 0.9856\n",
            "Epoch 30/100\n",
            "500/500 [==============================] - 29s 58ms/step - loss: 0.0442 - accuracy: 0.9854\n",
            "Epoch 31/100\n",
            "500/500 [==============================] - 29s 57ms/step - loss: 0.0405 - accuracy: 0.9871\n",
            "Epoch 32/100\n",
            "500/500 [==============================] - 29s 57ms/step - loss: 0.0394 - accuracy: 0.9874\n",
            "Epoch 33/100\n",
            "500/500 [==============================] - 29s 57ms/step - loss: 0.0435 - accuracy: 0.9863\n",
            "Epoch 34/100\n",
            "500/500 [==============================] - 29s 57ms/step - loss: 0.0388 - accuracy: 0.9884\n",
            "Epoch 35/100\n",
            "500/500 [==============================] - 29s 57ms/step - loss: 0.0369 - accuracy: 0.9884\n",
            "Epoch 36/100\n",
            "500/500 [==============================] - 29s 58ms/step - loss: 0.0343 - accuracy: 0.9898\n",
            "Epoch 37/100\n",
            "500/500 [==============================] - 29s 57ms/step - loss: 0.0365 - accuracy: 0.9882\n",
            "Epoch 38/100\n",
            "500/500 [==============================] - 29s 57ms/step - loss: 0.0352 - accuracy: 0.9888\n",
            "Epoch 39/100\n",
            "500/500 [==============================] - 29s 57ms/step - loss: 0.0339 - accuracy: 0.9893\n",
            "Epoch 40/100\n",
            "500/500 [==============================] - 29s 57ms/step - loss: 0.0303 - accuracy: 0.9900\n",
            "Epoch 41/100\n",
            "500/500 [==============================] - 29s 57ms/step - loss: 0.0372 - accuracy: 0.9885\n",
            "Epoch 42/100\n",
            "500/500 [==============================] - 29s 58ms/step - loss: 0.0284 - accuracy: 0.9909\n",
            "Epoch 43/100\n",
            "500/500 [==============================] - 29s 57ms/step - loss: 0.0323 - accuracy: 0.9903\n",
            "Epoch 44/100\n",
            "500/500 [==============================] - 29s 57ms/step - loss: 0.0291 - accuracy: 0.9912\n",
            "Epoch 45/100\n",
            "500/500 [==============================] - 29s 57ms/step - loss: 0.0304 - accuracy: 0.9911\n",
            "Epoch 46/100\n",
            "500/500 [==============================] - 29s 57ms/step - loss: 0.0263 - accuracy: 0.9920\n",
            "Epoch 47/100\n",
            "500/500 [==============================] - 29s 57ms/step - loss: 0.0295 - accuracy: 0.9911\n",
            "Epoch 48/100\n",
            "500/500 [==============================] - 29s 57ms/step - loss: 0.0315 - accuracy: 0.9904\n",
            "Epoch 49/100\n",
            "500/500 [==============================] - 29s 57ms/step - loss: 0.0259 - accuracy: 0.9920\n",
            "Epoch 50/100\n",
            "500/500 [==============================] - 29s 57ms/step - loss: 0.0248 - accuracy: 0.9926\n",
            "Epoch 51/100\n",
            "500/500 [==============================] - 29s 57ms/step - loss: 0.0303 - accuracy: 0.9906\n",
            "Epoch 52/100\n",
            "500/500 [==============================] - 29s 57ms/step - loss: 0.0234 - accuracy: 0.9929\n",
            "Epoch 53/100\n",
            "500/500 [==============================] - 29s 57ms/step - loss: 0.0267 - accuracy: 0.9916\n",
            "Epoch 54/100\n",
            "500/500 [==============================] - 29s 57ms/step - loss: 0.0245 - accuracy: 0.9923\n",
            "Epoch 55/100\n",
            "500/500 [==============================] - 29s 57ms/step - loss: 0.0236 - accuracy: 0.9928\n",
            "Epoch 56/100\n",
            "500/500 [==============================] - 29s 57ms/step - loss: 0.0264 - accuracy: 0.9920\n",
            "Epoch 57/100\n",
            "500/500 [==============================] - 29s 57ms/step - loss: 0.0220 - accuracy: 0.9934\n",
            "Epoch 58/100\n",
            "500/500 [==============================] - 29s 57ms/step - loss: 0.0227 - accuracy: 0.9927\n",
            "Epoch 59/100\n",
            "500/500 [==============================] - 29s 57ms/step - loss: 0.0206 - accuracy: 0.9938\n",
            "Epoch 60/100\n",
            "500/500 [==============================] - 29s 57ms/step - loss: 0.0177 - accuracy: 0.9947\n",
            "Epoch 61/100\n",
            "500/500 [==============================] - 29s 57ms/step - loss: 0.0203 - accuracy: 0.9937\n",
            "Epoch 62/100\n",
            "500/500 [==============================] - 29s 57ms/step - loss: 0.0243 - accuracy: 0.9924\n",
            "Epoch 63/100\n",
            "500/500 [==============================] - 29s 57ms/step - loss: 0.0259 - accuracy: 0.9918\n",
            "Epoch 64/100\n",
            "500/500 [==============================] - 29s 57ms/step - loss: 0.0213 - accuracy: 0.9932\n",
            "Epoch 65/100\n",
            "500/500 [==============================] - 29s 57ms/step - loss: 0.0234 - accuracy: 0.9932\n",
            "Epoch 66/100\n",
            "500/500 [==============================] - 29s 57ms/step - loss: 0.0171 - accuracy: 0.9946\n",
            "Epoch 67/100\n",
            "500/500 [==============================] - 29s 57ms/step - loss: 0.0254 - accuracy: 0.9921\n",
            "Epoch 68/100\n",
            "500/500 [==============================] - 29s 57ms/step - loss: 0.0177 - accuracy: 0.9948\n",
            "Epoch 69/100\n",
            "500/500 [==============================] - 29s 58ms/step - loss: 0.0164 - accuracy: 0.9953\n",
            "Epoch 70/100\n",
            "500/500 [==============================] - 29s 57ms/step - loss: 0.0174 - accuracy: 0.9948\n",
            "Epoch 71/100\n",
            "500/500 [==============================] - 29s 58ms/step - loss: 0.0221 - accuracy: 0.9933\n",
            "Epoch 72/100\n",
            "500/500 [==============================] - 30s 59ms/step - loss: 0.0155 - accuracy: 0.9958\n",
            "Epoch 73/100\n",
            "500/500 [==============================] - 29s 59ms/step - loss: 0.0202 - accuracy: 0.9940\n",
            "Epoch 74/100\n",
            "500/500 [==============================] - 29s 59ms/step - loss: 0.0183 - accuracy: 0.9949\n",
            "Epoch 75/100\n",
            "500/500 [==============================] - 29s 59ms/step - loss: 0.0211 - accuracy: 0.9939\n",
            "Epoch 76/100\n",
            "500/500 [==============================] - 30s 59ms/step - loss: 0.0145 - accuracy: 0.9954\n",
            "Epoch 77/100\n",
            "500/500 [==============================] - 30s 59ms/step - loss: 0.0181 - accuracy: 0.9946\n",
            "Epoch 78/100\n",
            "500/500 [==============================] - 29s 59ms/step - loss: 0.0195 - accuracy: 0.9941\n",
            "Epoch 79/100\n",
            "500/500 [==============================] - 30s 59ms/step - loss: 0.0198 - accuracy: 0.9938\n",
            "Epoch 80/100\n",
            "500/500 [==============================] - 29s 59ms/step - loss: 0.0150 - accuracy: 0.9958\n",
            "Epoch 81/100\n",
            "500/500 [==============================] - 29s 59ms/step - loss: 0.0183 - accuracy: 0.9946\n",
            "Epoch 82/100\n",
            "500/500 [==============================] - 29s 59ms/step - loss: 0.0147 - accuracy: 0.9959\n",
            "Epoch 83/100\n",
            "500/500 [==============================] - 29s 59ms/step - loss: 0.0146 - accuracy: 0.9958\n",
            "Epoch 84/100\n",
            "500/500 [==============================] - 29s 59ms/step - loss: 0.0149 - accuracy: 0.9955\n",
            "Epoch 85/100\n",
            "500/500 [==============================] - 29s 59ms/step - loss: 0.0134 - accuracy: 0.9963\n",
            "Epoch 86/100\n",
            "500/500 [==============================] - 29s 59ms/step - loss: 0.0196 - accuracy: 0.9943\n",
            "Epoch 87/100\n",
            "500/500 [==============================] - 29s 59ms/step - loss: 0.0186 - accuracy: 0.9945\n",
            "Epoch 88/100\n",
            "500/500 [==============================] - 29s 59ms/step - loss: 0.0186 - accuracy: 0.9945\n",
            "Epoch 89/100\n",
            "500/500 [==============================] - 29s 59ms/step - loss: 0.0145 - accuracy: 0.9962\n",
            "Epoch 90/100\n",
            "500/500 [==============================] - 29s 59ms/step - loss: 0.0168 - accuracy: 0.9951\n",
            "Epoch 91/100\n",
            "500/500 [==============================] - 29s 59ms/step - loss: 0.0182 - accuracy: 0.9947\n",
            "Epoch 92/100\n",
            "500/500 [==============================] - 29s 59ms/step - loss: 0.0112 - accuracy: 0.9962\n",
            "Epoch 93/100\n",
            "500/500 [==============================] - 29s 59ms/step - loss: 0.0137 - accuracy: 0.9960\n",
            "Epoch 94/100\n",
            "500/500 [==============================] - 29s 59ms/step - loss: 0.0139 - accuracy: 0.9959\n",
            "Epoch 95/100\n",
            "500/500 [==============================] - 29s 59ms/step - loss: 0.0152 - accuracy: 0.9955\n",
            "Epoch 96/100\n",
            "500/500 [==============================] - 29s 59ms/step - loss: 0.0148 - accuracy: 0.9952\n",
            "Epoch 97/100\n",
            "500/500 [==============================] - 29s 59ms/step - loss: 0.0119 - accuracy: 0.9964\n",
            "Epoch 98/100\n",
            "500/500 [==============================] - 29s 59ms/step - loss: 0.0125 - accuracy: 0.9962\n",
            "Epoch 99/100\n",
            "500/500 [==============================] - 30s 59ms/step - loss: 0.0187 - accuracy: 0.9943\n",
            "Epoch 100/100\n",
            "500/500 [==============================] - 29s 59ms/step - loss: 0.0104 - accuracy: 0.9970\n"
          ]
        },
        {
          "output_type": "execute_result",
          "data": {
            "text/plain": [
              "<keras.callbacks.History at 0x7fdabe133400>"
            ]
          },
          "metadata": {},
          "execution_count": 80
        }
      ]
    },
    {
      "cell_type": "code",
      "source": [
        "test_loss, test_acc = model.evaluate(x_test,y_test)\n",
        "print(\"Test loss: {0} - Test accuracry: {1}\".format(test_loss,test_acc))"
      ],
      "metadata": {
        "colab": {
          "base_uri": "https://localhost:8080/"
        },
        "id": "waDG5NVof9h5",
        "outputId": "2737e778-c7cb-4a5d-9a78-3b6c0f77d120"
      },
      "execution_count": null,
      "outputs": [
        {
          "output_type": "stream",
          "name": "stdout",
          "text": [
            "313/313 [==============================] - 3s 10ms/step - loss: 1.4489 - accuracy: 0.7810\n",
            "Test loss: 1.448918342590332 - Test accuracry: 0.781000018119812\n"
          ]
        }
      ]
    },
    {
      "cell_type": "markdown",
      "source": [
        "#AlexNet architecture"
      ],
      "metadata": {
        "id": "rr3MHnc8tNvN"
      }
    },
    {
      "cell_type": "code",
      "execution_count": null,
      "metadata": {
        "id": "PpXGMY_nxX5B"
      },
      "outputs": [],
      "source": [
        "inputs = KL.Input(shape=(32,32,3))\n",
        "\n",
        "m = KL.Conv2D(96,(11,11),padding='valid',strides=4,activation=tf.nn.relu)(inputs)\n",
        "\n",
        "m = KL.MaxPool2D((3,3),strides=(2,2))(m)\n",
        "\n",
        "m = KL.Conv2D(256,(5,5),padding='same',activation=tf.nn.relu)(m)\n",
        "\n",
        "m = KL.MaxPool2D((3,3),padding='same',strides=(2,2))(m)\n",
        "\n",
        "##\n",
        "\n",
        "c = KL.Conv2D(384,(3,3),padding='same',activation=tf.nn.relu)(m)\n",
        "\n",
        "c = KL.Conv2D(384,(3,3),padding='same',activation=tf.nn.relu)(c)\n",
        "\n",
        "c = KL.Conv2D(256,(3,3),padding='same',activation=tf.nn.relu)(c)\n",
        "\n",
        "m = KL.MaxPool2D((3,3),padding='same',strides=2)(c)\n",
        "\n",
        "f = KL.Flatten()(m)\n",
        "\n",
        "c = KL.Dense(9216,activation=tf.nn.relu)(f)\n",
        "\n",
        "c = KL.Dense(4096,activation=tf.nn.relu)(c)\n",
        "\n",
        "c = KL.Dense(4096,activation=tf.nn.relu)(c)\n",
        "\n",
        "ouputs = KL.Dense(10,activation=tf.nn.softmax)(c)\n",
        "\n",
        "model = KM.Model(inputs,ouputs)\n",
        "\n"
      ]
    },
    {
      "cell_type": "code",
      "source": [
        "model.summary()"
      ],
      "metadata": {
        "colab": {
          "base_uri": "https://localhost:8080/"
        },
        "id": "DHAvh-SuxfOH",
        "outputId": "af02f591-e8c2-4bce-c1eb-a61e1b44b50c"
      },
      "execution_count": null,
      "outputs": [
        {
          "output_type": "stream",
          "name": "stdout",
          "text": [
            "Model: \"model_7\"\n",
            "_________________________________________________________________\n",
            " Layer (type)                Output Shape              Param #   \n",
            "=================================================================\n",
            " input_11 (InputLayer)       [(None, 32, 32, 3)]       0         \n",
            "                                                                 \n",
            " conv2d_92 (Conv2D)          (None, 6, 6, 96)          34944     \n",
            "                                                                 \n",
            " max_pooling2d_40 (MaxPoolin  (None, 2, 2, 96)         0         \n",
            " g2D)                                                            \n",
            "                                                                 \n",
            " conv2d_93 (Conv2D)          (None, 2, 2, 256)         614656    \n",
            "                                                                 \n",
            " max_pooling2d_41 (MaxPoolin  (None, 1, 1, 256)        0         \n",
            " g2D)                                                            \n",
            "                                                                 \n",
            " conv2d_94 (Conv2D)          (None, 1, 1, 384)         885120    \n",
            "                                                                 \n",
            " conv2d_95 (Conv2D)          (None, 1, 1, 384)         1327488   \n",
            "                                                                 \n",
            " conv2d_96 (Conv2D)          (None, 1, 1, 256)         884992    \n",
            "                                                                 \n",
            " max_pooling2d_42 (MaxPoolin  (None, 1, 1, 256)        0         \n",
            " g2D)                                                            \n",
            "                                                                 \n",
            " flatten_7 (Flatten)         (None, 256)               0         \n",
            "                                                                 \n",
            " dense_22 (Dense)            (None, 9216)              2368512   \n",
            "                                                                 \n",
            " dense_23 (Dense)            (None, 4096)              37752832  \n",
            "                                                                 \n",
            " dense_24 (Dense)            (None, 4096)              16781312  \n",
            "                                                                 \n",
            " dense_25 (Dense)            (None, 10)                40970     \n",
            "                                                                 \n",
            "=================================================================\n",
            "Total params: 60,690,826\n",
            "Trainable params: 60,690,826\n",
            "Non-trainable params: 0\n",
            "_________________________________________________________________\n"
          ]
        }
      ]
    },
    {
      "cell_type": "code",
      "source": [
        "model.compile(optimizer=tf.keras.optimizers.Adam(\n",
        "    learning_rate=0.0001\n",
        "),loss = \"sparse_categorical_crossentropy\",metrics=[\"accuracy\"])"
      ],
      "metadata": {
        "id": "a9Aa0jtdwwrn"
      },
      "execution_count": null,
      "outputs": []
    },
    {
      "cell_type": "code",
      "source": [
        "model.fit(x_train,y_train,epochs=100,batch_size=100)"
      ],
      "metadata": {
        "colab": {
          "base_uri": "https://localhost:8080/"
        },
        "id": "ANhfEA0oxW8e",
        "outputId": "fab294dc-1356-412c-b4f8-e6ec67991ddf"
      },
      "execution_count": null,
      "outputs": [
        {
          "output_type": "stream",
          "name": "stdout",
          "text": [
            "Epoch 1/100\n",
            "500/500 [==============================] - 15s 28ms/step - loss: 1.9849 - accuracy: 0.2211\n",
            "Epoch 2/100\n",
            "500/500 [==============================] - 14s 29ms/step - loss: 1.7505 - accuracy: 0.3126\n",
            "Epoch 3/100\n",
            "500/500 [==============================] - 14s 28ms/step - loss: 1.6648 - accuracy: 0.3552\n",
            "Epoch 4/100\n",
            "500/500 [==============================] - 14s 28ms/step - loss: 1.6024 - accuracy: 0.3846\n",
            "Epoch 5/100\n",
            "500/500 [==============================] - 14s 28ms/step - loss: 1.5580 - accuracy: 0.4112\n",
            "Epoch 6/100\n",
            "500/500 [==============================] - 14s 28ms/step - loss: 1.5034 - accuracy: 0.4411\n",
            "Epoch 7/100\n",
            "500/500 [==============================] - 14s 28ms/step - loss: 1.4466 - accuracy: 0.4603\n",
            "Epoch 8/100\n",
            "500/500 [==============================] - 14s 28ms/step - loss: 1.3941 - accuracy: 0.4828\n",
            "Epoch 9/100\n",
            "500/500 [==============================] - 14s 28ms/step - loss: 1.3357 - accuracy: 0.5090\n",
            "Epoch 10/100\n",
            "500/500 [==============================] - 14s 28ms/step - loss: 1.2817 - accuracy: 0.5325\n",
            "Epoch 11/100\n",
            "500/500 [==============================] - 14s 28ms/step - loss: 1.2445 - accuracy: 0.5461\n",
            "Epoch 12/100\n",
            "500/500 [==============================] - 14s 28ms/step - loss: 1.1941 - accuracy: 0.5663\n",
            "Epoch 13/100\n",
            "500/500 [==============================] - 14s 28ms/step - loss: 1.1543 - accuracy: 0.5830\n",
            "Epoch 14/100\n",
            "500/500 [==============================] - 14s 28ms/step - loss: 1.1153 - accuracy: 0.5975\n",
            "Epoch 15/100\n",
            "500/500 [==============================] - 14s 28ms/step - loss: 1.0756 - accuracy: 0.6132\n",
            "Epoch 16/100\n",
            "500/500 [==============================] - 14s 28ms/step - loss: 1.0258 - accuracy: 0.6354\n",
            "Epoch 17/100\n",
            "500/500 [==============================] - 14s 28ms/step - loss: 0.9952 - accuracy: 0.6466\n",
            "Epoch 18/100\n",
            "500/500 [==============================] - 14s 28ms/step - loss: 0.9537 - accuracy: 0.6593\n",
            "Epoch 19/100\n",
            "500/500 [==============================] - 14s 28ms/step - loss: 0.9200 - accuracy: 0.6750\n",
            "Epoch 20/100\n",
            "500/500 [==============================] - 14s 28ms/step - loss: 0.8789 - accuracy: 0.6896\n",
            "Epoch 21/100\n",
            "500/500 [==============================] - 14s 28ms/step - loss: 0.8414 - accuracy: 0.7022\n",
            "Epoch 22/100\n",
            "500/500 [==============================] - 14s 28ms/step - loss: 0.8098 - accuracy: 0.7132\n",
            "Epoch 23/100\n",
            "500/500 [==============================] - 14s 28ms/step - loss: 0.7655 - accuracy: 0.7303\n",
            "Epoch 24/100\n",
            "500/500 [==============================] - 14s 28ms/step - loss: 0.7350 - accuracy: 0.7404\n",
            "Epoch 25/100\n",
            "500/500 [==============================] - 14s 28ms/step - loss: 0.6888 - accuracy: 0.7555\n",
            "Epoch 26/100\n",
            "500/500 [==============================] - 14s 28ms/step - loss: 0.6701 - accuracy: 0.7613\n",
            "Epoch 27/100\n",
            "500/500 [==============================] - 14s 28ms/step - loss: 0.6330 - accuracy: 0.7775\n",
            "Epoch 28/100\n",
            "500/500 [==============================] - 14s 28ms/step - loss: 0.5886 - accuracy: 0.7911\n",
            "Epoch 29/100\n",
            "500/500 [==============================] - 14s 28ms/step - loss: 0.5539 - accuracy: 0.8064\n",
            "Epoch 30/100\n",
            "500/500 [==============================] - 14s 28ms/step - loss: 0.5313 - accuracy: 0.8149\n",
            "Epoch 31/100\n",
            "500/500 [==============================] - 14s 28ms/step - loss: 0.5040 - accuracy: 0.8232\n",
            "Epoch 32/100\n",
            "500/500 [==============================] - 14s 28ms/step - loss: 0.4667 - accuracy: 0.8375\n",
            "Epoch 33/100\n",
            "500/500 [==============================] - 14s 28ms/step - loss: 0.4524 - accuracy: 0.8405\n",
            "Epoch 34/100\n",
            "500/500 [==============================] - 14s 28ms/step - loss: 0.4254 - accuracy: 0.8504\n",
            "Epoch 35/100\n",
            "500/500 [==============================] - 14s 28ms/step - loss: 0.3988 - accuracy: 0.8606\n",
            "Epoch 36/100\n",
            "500/500 [==============================] - 14s 28ms/step - loss: 0.3713 - accuracy: 0.8704\n",
            "Epoch 37/100\n",
            "500/500 [==============================] - 14s 28ms/step - loss: 0.3588 - accuracy: 0.8753\n",
            "Epoch 38/100\n",
            "500/500 [==============================] - 14s 28ms/step - loss: 0.3249 - accuracy: 0.8872\n",
            "Epoch 39/100\n",
            "500/500 [==============================] - 14s 28ms/step - loss: 0.3149 - accuracy: 0.8902\n",
            "Epoch 40/100\n",
            "500/500 [==============================] - 14s 28ms/step - loss: 0.3030 - accuracy: 0.8942\n",
            "Epoch 41/100\n",
            "500/500 [==============================] - 14s 28ms/step - loss: 0.2812 - accuracy: 0.9030\n",
            "Epoch 42/100\n",
            "500/500 [==============================] - 14s 28ms/step - loss: 0.2677 - accuracy: 0.9062\n",
            "Epoch 43/100\n",
            "500/500 [==============================] - 14s 28ms/step - loss: 0.2637 - accuracy: 0.9076\n",
            "Epoch 44/100\n",
            "500/500 [==============================] - 14s 28ms/step - loss: 0.2492 - accuracy: 0.9124\n",
            "Epoch 45/100\n",
            "500/500 [==============================] - 14s 28ms/step - loss: 0.2259 - accuracy: 0.9214\n",
            "Epoch 46/100\n",
            "500/500 [==============================] - 14s 28ms/step - loss: 0.2249 - accuracy: 0.9220\n",
            "Epoch 47/100\n",
            "500/500 [==============================] - 14s 28ms/step - loss: 0.2090 - accuracy: 0.9265\n",
            "Epoch 48/100\n",
            "500/500 [==============================] - 14s 28ms/step - loss: 0.2086 - accuracy: 0.9269\n",
            "Epoch 49/100\n",
            "500/500 [==============================] - 14s 28ms/step - loss: 0.1872 - accuracy: 0.9351\n",
            "Epoch 50/100\n",
            "500/500 [==============================] - 14s 28ms/step - loss: 0.2022 - accuracy: 0.9310\n",
            "Epoch 51/100\n",
            "500/500 [==============================] - 14s 28ms/step - loss: 0.1696 - accuracy: 0.9410\n",
            "Epoch 52/100\n",
            "500/500 [==============================] - 14s 28ms/step - loss: 0.1777 - accuracy: 0.9377\n",
            "Epoch 53/100\n",
            "500/500 [==============================] - 14s 28ms/step - loss: 0.1631 - accuracy: 0.9435\n",
            "Epoch 54/100\n",
            "500/500 [==============================] - 14s 28ms/step - loss: 0.1645 - accuracy: 0.9429\n",
            "Epoch 55/100\n",
            "500/500 [==============================] - 14s 28ms/step - loss: 0.1624 - accuracy: 0.9436\n",
            "Epoch 56/100\n",
            "500/500 [==============================] - 14s 28ms/step - loss: 0.1547 - accuracy: 0.9466\n",
            "Epoch 57/100\n",
            "500/500 [==============================] - 14s 28ms/step - loss: 0.1410 - accuracy: 0.9513\n",
            "Epoch 58/100\n",
            "500/500 [==============================] - 14s 28ms/step - loss: 0.1424 - accuracy: 0.9506\n",
            "Epoch 59/100\n",
            "500/500 [==============================] - 14s 28ms/step - loss: 0.1467 - accuracy: 0.9497\n",
            "Epoch 60/100\n",
            "500/500 [==============================] - 14s 28ms/step - loss: 0.1267 - accuracy: 0.9565\n",
            "Epoch 61/100\n",
            "500/500 [==============================] - 14s 28ms/step - loss: 0.1335 - accuracy: 0.9541\n",
            "Epoch 62/100\n",
            "500/500 [==============================] - 14s 28ms/step - loss: 0.1265 - accuracy: 0.9565\n",
            "Epoch 63/100\n",
            "500/500 [==============================] - 14s 28ms/step - loss: 0.1280 - accuracy: 0.9566\n",
            "Epoch 64/100\n",
            "500/500 [==============================] - 14s 28ms/step - loss: 0.1165 - accuracy: 0.9593\n",
            "Epoch 65/100\n",
            "500/500 [==============================] - 14s 28ms/step - loss: 0.1152 - accuracy: 0.9609\n",
            "Epoch 66/100\n",
            "500/500 [==============================] - 14s 28ms/step - loss: 0.1215 - accuracy: 0.9581\n",
            "Epoch 67/100\n",
            "500/500 [==============================] - 14s 28ms/step - loss: 0.1198 - accuracy: 0.9587\n",
            "Epoch 68/100\n",
            "500/500 [==============================] - 14s 28ms/step - loss: 0.1050 - accuracy: 0.9636\n",
            "Epoch 69/100\n",
            "500/500 [==============================] - 14s 28ms/step - loss: 0.1087 - accuracy: 0.9627\n",
            "Epoch 70/100\n",
            "500/500 [==============================] - 14s 28ms/step - loss: 0.1076 - accuracy: 0.9637\n",
            "Epoch 71/100\n",
            "500/500 [==============================] - 14s 28ms/step - loss: 0.1088 - accuracy: 0.9638\n",
            "Epoch 72/100\n",
            "500/500 [==============================] - 14s 28ms/step - loss: 0.1026 - accuracy: 0.9647\n",
            "Epoch 73/100\n",
            "500/500 [==============================] - 14s 28ms/step - loss: 0.0962 - accuracy: 0.9669\n",
            "Epoch 74/100\n",
            "500/500 [==============================] - 14s 28ms/step - loss: 0.0969 - accuracy: 0.9672\n",
            "Epoch 75/100\n",
            "500/500 [==============================] - 14s 28ms/step - loss: 0.0975 - accuracy: 0.9665\n",
            "Epoch 76/100\n",
            "500/500 [==============================] - 14s 28ms/step - loss: 0.0830 - accuracy: 0.9717\n",
            "Epoch 77/100\n",
            "500/500 [==============================] - 14s 28ms/step - loss: 0.0950 - accuracy: 0.9681\n",
            "Epoch 78/100\n",
            "500/500 [==============================] - 14s 28ms/step - loss: 0.0867 - accuracy: 0.9706\n",
            "Epoch 79/100\n",
            "500/500 [==============================] - 14s 28ms/step - loss: 0.0927 - accuracy: 0.9678\n",
            "Epoch 80/100\n",
            "500/500 [==============================] - 14s 28ms/step - loss: 0.0866 - accuracy: 0.9708\n",
            "Epoch 81/100\n",
            "500/500 [==============================] - 14s 28ms/step - loss: 0.0954 - accuracy: 0.9667\n",
            "Epoch 82/100\n",
            "500/500 [==============================] - 14s 28ms/step - loss: 0.0811 - accuracy: 0.9721\n",
            "Epoch 83/100\n",
            "500/500 [==============================] - 14s 28ms/step - loss: 0.0841 - accuracy: 0.9706\n",
            "Epoch 84/100\n",
            "500/500 [==============================] - 14s 28ms/step - loss: 0.0817 - accuracy: 0.9715\n",
            "Epoch 85/100\n",
            "500/500 [==============================] - 14s 28ms/step - loss: 0.0777 - accuracy: 0.9733\n",
            "Epoch 86/100\n",
            "500/500 [==============================] - 14s 28ms/step - loss: 0.0783 - accuracy: 0.9736\n",
            "Epoch 87/100\n",
            "500/500 [==============================] - 14s 28ms/step - loss: 0.0732 - accuracy: 0.9742\n",
            "Epoch 88/100\n",
            "500/500 [==============================] - 14s 28ms/step - loss: 0.0769 - accuracy: 0.9737\n",
            "Epoch 89/100\n",
            "500/500 [==============================] - 14s 28ms/step - loss: 0.0659 - accuracy: 0.9771\n",
            "Epoch 90/100\n",
            "500/500 [==============================] - 14s 28ms/step - loss: 0.0811 - accuracy: 0.9720\n",
            "Epoch 91/100\n",
            "500/500 [==============================] - 14s 28ms/step - loss: 0.0721 - accuracy: 0.9755\n",
            "Epoch 92/100\n",
            "500/500 [==============================] - 14s 28ms/step - loss: 0.0751 - accuracy: 0.9743\n",
            "Epoch 93/100\n",
            "500/500 [==============================] - 14s 28ms/step - loss: 0.0679 - accuracy: 0.9770\n",
            "Epoch 94/100\n",
            "500/500 [==============================] - 14s 28ms/step - loss: 0.0734 - accuracy: 0.9748\n",
            "Epoch 95/100\n",
            "500/500 [==============================] - 14s 28ms/step - loss: 0.0717 - accuracy: 0.9752\n",
            "Epoch 96/100\n",
            "500/500 [==============================] - 14s 28ms/step - loss: 0.0653 - accuracy: 0.9779\n",
            "Epoch 97/100\n",
            "500/500 [==============================] - 14s 28ms/step - loss: 0.0679 - accuracy: 0.9765\n",
            "Epoch 98/100\n",
            "500/500 [==============================] - 14s 28ms/step - loss: 0.0729 - accuracy: 0.9752\n",
            "Epoch 99/100\n",
            "500/500 [==============================] - 14s 28ms/step - loss: 0.0611 - accuracy: 0.9786\n",
            "Epoch 100/100\n",
            "500/500 [==============================] - 14s 28ms/step - loss: 0.0676 - accuracy: 0.9771\n"
          ]
        },
        {
          "output_type": "execute_result",
          "data": {
            "text/plain": [
              "<keras.callbacks.History at 0x7fdab4581f40>"
            ]
          },
          "metadata": {},
          "execution_count": 85
        }
      ]
    },
    {
      "cell_type": "code",
      "source": [
        "test_loss, test_acc = model.evaluate(x_test,y_test)\n",
        "print(\"Test loss: {0} - Test accuracry: {1}\".format(test_loss,test_acc))"
      ],
      "metadata": {
        "colab": {
          "base_uri": "https://localhost:8080/"
        },
        "id": "hDjPrK8-xaqX",
        "outputId": "aa4edaeb-2274-474f-f802-b6189c6af9e5"
      },
      "execution_count": null,
      "outputs": [
        {
          "output_type": "stream",
          "name": "stdout",
          "text": [
            "313/313 [==============================] - 2s 5ms/step - loss: 3.2016 - accuracy: 0.5417\n",
            "Test loss: 3.2016379833221436 - Test accuracry: 0.541700005531311\n"
          ]
        }
      ]
    }
  ],
  "metadata": {
    "colab": {
      "provenance": []
    },
    "kernelspec": {
      "display_name": "Python 3",
      "name": "python3"
    },
    "language_info": {
      "name": "python"
    },
    "accelerator": "GPU",
    "gpuClass": "standard"
  },
  "nbformat": 4,
  "nbformat_minor": 0
}